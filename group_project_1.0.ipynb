{
 "cells": [
  {
   "cell_type": "markdown",
   "id": "421dcf50-34b7-4bf9-8693-8202a7bb4645",
   "metadata": {},
   "source": [
    "This is the group project notebook!"
   ]
  },
  {
   "cell_type": "code",
   "execution_count": null,
   "id": "5e2a7453-b9f6-47d6-a33c-7bc568e88fc3",
   "metadata": {},
   "outputs": [],
   "source": []
  }
 ],
 "metadata": {
  "kernelspec": {
   "display_name": "R",
   "language": "R",
   "name": "ir"
  },
  "language_info": {
   "codemirror_mode": "r",
   "file_extension": ".r",
   "mimetype": "text/x-r-source",
   "name": "R",
   "pygments_lexer": "r",
   "version": "4.3.3"
  }
 },
 "nbformat": 4,
 "nbformat_minor": 5
}
