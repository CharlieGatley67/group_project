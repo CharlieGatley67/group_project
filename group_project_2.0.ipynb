{
 "cells": [
  {
   "cell_type": "markdown",
   "id": "e75af658-a6ce-4604-b2a3-0192b3accdcd",
   "metadata": {},
   "source": [
    "# Predicting Newsletter Subscription in PlaiCraft Using K-NN Classification\n",
    "\n",
    "### Project Final Report (Group 40)\n",
    "\n",
    "**Annie Ma 87140554\n",
    "<br>Kai Shih 52570777\n",
    "<br>Chuqiao Zhou 69441996\n",
    "<br>Charlie Gatley 74748740**\n"
   ]
  },
  {
   "cell_type": "markdown",
   "id": "15f75adc-9cb9-4df6-9ae7-8aa0e6093786",
   "metadata": {},
   "source": [
    "## Introduction\n",
    "\n",
    "### Background\n",
    "Understanding player behaviour is essential when running a game to maintain the server and increase its audience. Thus, game studios record player data to understand, effectively communicate and retain players. A UBC CS research group led by Professor Frank Wood set up a MineCraft server and recorded players’ in-game actions and other demographic data to further improve their player attraction. The collected data can then be further analyzed to target non-subscribers to their newsletter, and gain an understanding of who is likely to stay in communication with the server project. However, not all players choose to subscribe, even some who are very active on the platform. Finding out which users are more or less likely to subscribe can help developers design better promotional strategies and increase overall subscription rates.\n",
    "\n",
    "### Question\n",
    "The question we aimed to answer is <br>**“Can we predict whether or not someone will subscribe to the newsletter based on how much they've played in Plaicraft (`played_hours`) and self-reported Minecraft experience? (`experience`)”**\n",
    "\n",
    "### Dataset\n",
    "The datasets given by the CS research group were collected from players engaging with the Plaicraft server over a defined period. "
   ]
  },
  {
   "cell_type": "markdown",
   "id": "7e0c5f65-58b9-4206-bf77-c310b89c6936",
   "metadata": {},
   "source": [
    "To explore this question, we used a dataset titled `players.csv`, which contains 196 observations of individual Plaicraft users and 7 variables, which are listed below:\n",
    "- Player experience level: `experience`\n",
    "- Subscription status: `subscribe`\n",
    "- User email: `hashed_Email`\n",
    "- Total hours played by a user (in hours): `played_hours`\n",
    "- Player name: `name`\n",
    "- Player's gender identity: `gender`\n",
    "- Player age: `age`\n",
    "\n",
    "| Feature      | Type \n",
    "|--------------|-----------|\n",
    "| experience | Character |\n",
    "| subscribe | Logical |\n",
    "| hashed_Email | Character |\n",
    "| played_hours | Double |\n",
    "| name | Character |\n",
    "| gender | Character |\n",
    "| age | Double |\n",
    "\n",
    "For the purposes of our project, experience will have to be a **Double** variable and subscribe will have to be a **Factor** variable."
   ]
  },
  {
   "cell_type": "markdown",
   "id": "9d008139-63dd-4804-9c56-b9c0d6b54a58",
   "metadata": {},
   "source": [
    "## Method Section"
   ]
  },
  {
   "cell_type": "code",
   "execution_count": 1,
   "id": "e5d924b9-055f-46c4-84fa-a75b0aafbc49",
   "metadata": {},
   "outputs": [
    {
     "name": "stderr",
     "output_type": "stream",
     "text": [
      "── \u001b[1mAttaching core tidyverse packages\u001b[22m ──────────────────────── tidyverse 2.0.0 ──\n",
      "\u001b[32m✔\u001b[39m \u001b[34mdplyr    \u001b[39m 1.1.4     \u001b[32m✔\u001b[39m \u001b[34mreadr    \u001b[39m 2.1.5\n",
      "\u001b[32m✔\u001b[39m \u001b[34mforcats  \u001b[39m 1.0.0     \u001b[32m✔\u001b[39m \u001b[34mstringr  \u001b[39m 1.5.1\n",
      "\u001b[32m✔\u001b[39m \u001b[34mggplot2  \u001b[39m 3.5.1     \u001b[32m✔\u001b[39m \u001b[34mtibble   \u001b[39m 3.2.1\n",
      "\u001b[32m✔\u001b[39m \u001b[34mlubridate\u001b[39m 1.9.3     \u001b[32m✔\u001b[39m \u001b[34mtidyr    \u001b[39m 1.3.1\n",
      "\u001b[32m✔\u001b[39m \u001b[34mpurrr    \u001b[39m 1.0.2     \n",
      "── \u001b[1mConflicts\u001b[22m ────────────────────────────────────────── tidyverse_conflicts() ──\n",
      "\u001b[31m✖\u001b[39m \u001b[34mdplyr\u001b[39m::\u001b[32mfilter()\u001b[39m masks \u001b[34mstats\u001b[39m::filter()\n",
      "\u001b[31m✖\u001b[39m \u001b[34mdplyr\u001b[39m::\u001b[32mlag()\u001b[39m    masks \u001b[34mstats\u001b[39m::lag()\n",
      "\u001b[36mℹ\u001b[39m Use the conflicted package (\u001b[3m\u001b[34m<http://conflicted.r-lib.org/>\u001b[39m\u001b[23m) to force all conflicts to become errors\n",
      "── \u001b[1mAttaching packages\u001b[22m ────────────────────────────────────── tidymodels 1.1.1 ──\n",
      "\n",
      "\u001b[32m✔\u001b[39m \u001b[34mbroom       \u001b[39m 1.0.6     \u001b[32m✔\u001b[39m \u001b[34mrsample     \u001b[39m 1.2.1\n",
      "\u001b[32m✔\u001b[39m \u001b[34mdials       \u001b[39m 1.3.0     \u001b[32m✔\u001b[39m \u001b[34mtune        \u001b[39m 1.1.2\n",
      "\u001b[32m✔\u001b[39m \u001b[34minfer       \u001b[39m 1.0.7     \u001b[32m✔\u001b[39m \u001b[34mworkflows   \u001b[39m 1.1.4\n",
      "\u001b[32m✔\u001b[39m \u001b[34mmodeldata   \u001b[39m 1.4.0     \u001b[32m✔\u001b[39m \u001b[34mworkflowsets\u001b[39m 1.0.1\n",
      "\u001b[32m✔\u001b[39m \u001b[34mparsnip     \u001b[39m 1.2.1     \u001b[32m✔\u001b[39m \u001b[34myardstick   \u001b[39m 1.3.1\n",
      "\u001b[32m✔\u001b[39m \u001b[34mrecipes     \u001b[39m 1.1.0     \n",
      "\n",
      "── \u001b[1mConflicts\u001b[22m ───────────────────────────────────────── tidymodels_conflicts() ──\n",
      "\u001b[31m✖\u001b[39m \u001b[34mscales\u001b[39m::\u001b[32mdiscard()\u001b[39m masks \u001b[34mpurrr\u001b[39m::discard()\n",
      "\u001b[31m✖\u001b[39m \u001b[34mdplyr\u001b[39m::\u001b[32mfilter()\u001b[39m   masks \u001b[34mstats\u001b[39m::filter()\n",
      "\u001b[31m✖\u001b[39m \u001b[34mrecipes\u001b[39m::\u001b[32mfixed()\u001b[39m  masks \u001b[34mstringr\u001b[39m::fixed()\n",
      "\u001b[31m✖\u001b[39m \u001b[34mdplyr\u001b[39m::\u001b[32mlag()\u001b[39m      masks \u001b[34mstats\u001b[39m::lag()\n",
      "\u001b[31m✖\u001b[39m \u001b[34myardstick\u001b[39m::\u001b[32mspec()\u001b[39m masks \u001b[34mreadr\u001b[39m::spec()\n",
      "\u001b[31m✖\u001b[39m \u001b[34mrecipes\u001b[39m::\u001b[32mstep()\u001b[39m   masks \u001b[34mstats\u001b[39m::step()\n",
      "\u001b[34m•\u001b[39m Search for functions across packages at \u001b[32mhttps://www.tidymodels.org/find/\u001b[39m\n",
      "\n",
      "\n",
      "Attaching package: ‘cowplot’\n",
      "\n",
      "\n",
      "The following object is masked from ‘package:lubridate’:\n",
      "\n",
      "    stamp\n",
      "\n",
      "\n"
     ]
    }
   ],
   "source": [
    "#Loading libraries\n",
    "library(tidyverse)\n",
    "library(repr)\n",
    "options(repr.matrix.max.rows = 6)\n",
    "library(ggplot2)\n",
    "library(tidymodels)\n",
    "library(dplyr)\n",
    "library(themis)\n",
    "library(cowplot)"
   ]
  },
  {
   "cell_type": "code",
   "execution_count": 2,
   "id": "20a92b6d-af29-4551-8e52-8c12119a18bf",
   "metadata": {
    "scrolled": true
   },
   "outputs": [
    {
     "name": "stderr",
     "output_type": "stream",
     "text": [
      "\u001b[1mRows: \u001b[22m\u001b[34m196\u001b[39m \u001b[1mColumns: \u001b[22m\u001b[34m7\u001b[39m\n",
      "\u001b[36m──\u001b[39m \u001b[1mColumn specification\u001b[22m \u001b[36m────────────────────────────────────────────────────────\u001b[39m\n",
      "\u001b[1mDelimiter:\u001b[22m \",\"\n",
      "\u001b[31mchr\u001b[39m (4): experience, hashedEmail, name, gender\n",
      "\u001b[32mdbl\u001b[39m (2): played_hours, Age\n",
      "\u001b[33mlgl\u001b[39m (1): subscribe\n",
      "\n",
      "\u001b[36mℹ\u001b[39m Use `spec()` to retrieve the full column specification for this data.\n",
      "\u001b[36mℹ\u001b[39m Specify the column types or set `show_col_types = FALSE` to quiet this message.\n",
      "\u001b[1mRows: \u001b[22m\u001b[34m1535\u001b[39m \u001b[1mColumns: \u001b[22m\u001b[34m5\u001b[39m\n",
      "\u001b[36m──\u001b[39m \u001b[1mColumn specification\u001b[22m \u001b[36m────────────────────────────────────────────────────────\u001b[39m\n",
      "\u001b[1mDelimiter:\u001b[22m \",\"\n",
      "\u001b[31mchr\u001b[39m (3): hashedEmail, start_time, end_time\n",
      "\u001b[32mdbl\u001b[39m (2): original_start_time, original_end_time\n",
      "\n",
      "\u001b[36mℹ\u001b[39m Use `spec()` to retrieve the full column specification for this data.\n",
      "\u001b[36mℹ\u001b[39m Specify the column types or set `show_col_types = FALSE` to quiet this message.\n"
     ]
    },
    {
     "data": {
      "text/html": [
       "<table class=\"dataframe\">\n",
       "<caption>A spec_tbl_df: 196 × 7</caption>\n",
       "<thead>\n",
       "\t<tr><th scope=col>experience</th><th scope=col>subscribe</th><th scope=col>hashedEmail</th><th scope=col>played_hours</th><th scope=col>name</th><th scope=col>gender</th><th scope=col>Age</th></tr>\n",
       "\t<tr><th scope=col>&lt;chr&gt;</th><th scope=col>&lt;lgl&gt;</th><th scope=col>&lt;chr&gt;</th><th scope=col>&lt;dbl&gt;</th><th scope=col>&lt;chr&gt;</th><th scope=col>&lt;chr&gt;</th><th scope=col>&lt;dbl&gt;</th></tr>\n",
       "</thead>\n",
       "<tbody>\n",
       "\t<tr><td>Pro    </td><td> TRUE</td><td>f6daba428a5e19a3d47574858c13550499be23603422e6a0ee9728f8b53e192d</td><td>30.3</td><td>Morgan   </td><td>Male</td><td> 9</td></tr>\n",
       "\t<tr><td>Veteran</td><td> TRUE</td><td>f3c813577c458ba0dfef80996f8f32c93b6e8af1fa939732842f2312358a88e9</td><td> 3.8</td><td>Christian</td><td>Male</td><td>17</td></tr>\n",
       "\t<tr><td>Veteran</td><td>FALSE</td><td>b674dd7ee0d24096d1c019615ce4d12b20fcbff12d79d3c5a9d2118eb7ccbb28</td><td> 0.0</td><td>Blake    </td><td>Male</td><td>17</td></tr>\n",
       "\t<tr><td>⋮</td><td>⋮</td><td>⋮</td><td>⋮</td><td>⋮</td><td>⋮</td><td>⋮</td></tr>\n",
       "\t<tr><td>Amateur</td><td>FALSE</td><td>d572f391d452b76ea2d7e5e53a3d38bfd7499c7399db299bd4fedb06a46ad5bb</td><td>0.0</td><td>Dylan </td><td>Prefer not to say</td><td>17</td></tr>\n",
       "\t<tr><td>Amateur</td><td>FALSE</td><td>f19e136ddde68f365afc860c725ccff54307dedd13968e896a9f890c40aea436</td><td>2.3</td><td>Harlow</td><td>Male             </td><td>17</td></tr>\n",
       "\t<tr><td>Pro    </td><td> TRUE</td><td>d9473710057f7d42f36570f0be83817a4eea614029ff90cf50d8889cdd729d11</td><td>0.2</td><td>Ahmed </td><td>Other            </td><td>NA</td></tr>\n",
       "</tbody>\n",
       "</table>\n"
      ],
      "text/latex": [
       "A spec\\_tbl\\_df: 196 × 7\n",
       "\\begin{tabular}{lllllll}\n",
       " experience & subscribe & hashedEmail & played\\_hours & name & gender & Age\\\\\n",
       " <chr> & <lgl> & <chr> & <dbl> & <chr> & <chr> & <dbl>\\\\\n",
       "\\hline\n",
       "\t Pro     &  TRUE & f6daba428a5e19a3d47574858c13550499be23603422e6a0ee9728f8b53e192d & 30.3 & Morgan    & Male &  9\\\\\n",
       "\t Veteran &  TRUE & f3c813577c458ba0dfef80996f8f32c93b6e8af1fa939732842f2312358a88e9 &  3.8 & Christian & Male & 17\\\\\n",
       "\t Veteran & FALSE & b674dd7ee0d24096d1c019615ce4d12b20fcbff12d79d3c5a9d2118eb7ccbb28 &  0.0 & Blake     & Male & 17\\\\\n",
       "\t ⋮ & ⋮ & ⋮ & ⋮ & ⋮ & ⋮ & ⋮\\\\\n",
       "\t Amateur & FALSE & d572f391d452b76ea2d7e5e53a3d38bfd7499c7399db299bd4fedb06a46ad5bb & 0.0 & Dylan  & Prefer not to say & 17\\\\\n",
       "\t Amateur & FALSE & f19e136ddde68f365afc860c725ccff54307dedd13968e896a9f890c40aea436 & 2.3 & Harlow & Male              & 17\\\\\n",
       "\t Pro     &  TRUE & d9473710057f7d42f36570f0be83817a4eea614029ff90cf50d8889cdd729d11 & 0.2 & Ahmed  & Other             & NA\\\\\n",
       "\\end{tabular}\n"
      ],
      "text/markdown": [
       "\n",
       "A spec_tbl_df: 196 × 7\n",
       "\n",
       "| experience &lt;chr&gt; | subscribe &lt;lgl&gt; | hashedEmail &lt;chr&gt; | played_hours &lt;dbl&gt; | name &lt;chr&gt; | gender &lt;chr&gt; | Age &lt;dbl&gt; |\n",
       "|---|---|---|---|---|---|---|\n",
       "| Pro     |  TRUE | f6daba428a5e19a3d47574858c13550499be23603422e6a0ee9728f8b53e192d | 30.3 | Morgan    | Male |  9 |\n",
       "| Veteran |  TRUE | f3c813577c458ba0dfef80996f8f32c93b6e8af1fa939732842f2312358a88e9 |  3.8 | Christian | Male | 17 |\n",
       "| Veteran | FALSE | b674dd7ee0d24096d1c019615ce4d12b20fcbff12d79d3c5a9d2118eb7ccbb28 |  0.0 | Blake     | Male | 17 |\n",
       "| ⋮ | ⋮ | ⋮ | ⋮ | ⋮ | ⋮ | ⋮ |\n",
       "| Amateur | FALSE | d572f391d452b76ea2d7e5e53a3d38bfd7499c7399db299bd4fedb06a46ad5bb | 0.0 | Dylan  | Prefer not to say | 17 |\n",
       "| Amateur | FALSE | f19e136ddde68f365afc860c725ccff54307dedd13968e896a9f890c40aea436 | 2.3 | Harlow | Male              | 17 |\n",
       "| Pro     |  TRUE | d9473710057f7d42f36570f0be83817a4eea614029ff90cf50d8889cdd729d11 | 0.2 | Ahmed  | Other             | NA |\n",
       "\n"
      ],
      "text/plain": [
       "    experience subscribe\n",
       "1   Pro         TRUE    \n",
       "2   Veteran     TRUE    \n",
       "3   Veteran    FALSE    \n",
       "⋮   ⋮          ⋮        \n",
       "194 Amateur    FALSE    \n",
       "195 Amateur    FALSE    \n",
       "196 Pro         TRUE    \n",
       "    hashedEmail                                                     \n",
       "1   f6daba428a5e19a3d47574858c13550499be23603422e6a0ee9728f8b53e192d\n",
       "2   f3c813577c458ba0dfef80996f8f32c93b6e8af1fa939732842f2312358a88e9\n",
       "3   b674dd7ee0d24096d1c019615ce4d12b20fcbff12d79d3c5a9d2118eb7ccbb28\n",
       "⋮   ⋮                                                               \n",
       "194 d572f391d452b76ea2d7e5e53a3d38bfd7499c7399db299bd4fedb06a46ad5bb\n",
       "195 f19e136ddde68f365afc860c725ccff54307dedd13968e896a9f890c40aea436\n",
       "196 d9473710057f7d42f36570f0be83817a4eea614029ff90cf50d8889cdd729d11\n",
       "    played_hours name      gender            Age\n",
       "1   30.3         Morgan    Male               9 \n",
       "2    3.8         Christian Male              17 \n",
       "3    0.0         Blake     Male              17 \n",
       "⋮   ⋮            ⋮         ⋮                 ⋮  \n",
       "194 0.0          Dylan     Prefer not to say 17 \n",
       "195 2.3          Harlow    Male              17 \n",
       "196 0.2          Ahmed     Other             NA "
      ]
     },
     "metadata": {},
     "output_type": "display_data"
    }
   ],
   "source": [
    "#Reading data using relative path\n",
    "set.seed(12)\n",
    "\n",
    "players <- read_csv(\"data/players.csv\")\n",
    "sessions <- read_csv(\"data/sessions.csv\")\n",
    "players"
   ]
  },
  {
   "cell_type": "markdown",
   "id": "775d3fe3-2232-4df4-b1d5-00da894ec915",
   "metadata": {},
   "source": [
    "### Modify The Players Data Set\n",
    "- We modified the data set by selecting only the `subscribe`, `played_hours`, and `experience` columns since they’re the only variables we’re interested in. \n",
    "- However, since the experience column was originally a character (chr), we modified it using the `mutate` function and converted it into numeric (dbl) levels. Each experience level is assigned a number: Beginner = 1, Amateur = 2, Regular = 3, Pro = 4, Veteran = 5.\n",
    "- In order to ensure we can use K-NN classification, our categorical variable `subscribe` must be converted into a factor variable."
   ]
  },
  {
   "cell_type": "code",
   "execution_count": 3,
   "id": "3f7f6ab2-b3b9-43ca-a71e-d8e4c8901ea9",
   "metadata": {},
   "outputs": [
    {
     "data": {
      "text/html": [
       "<table class=\"dataframe\">\n",
       "<caption>A tibble: 196 × 3</caption>\n",
       "<thead>\n",
       "\t<tr><th scope=col>subscribe</th><th scope=col>played_hours</th><th scope=col>experience</th></tr>\n",
       "\t<tr><th scope=col>&lt;fct&gt;</th><th scope=col>&lt;dbl&gt;</th><th scope=col>&lt;dbl&gt;</th></tr>\n",
       "</thead>\n",
       "<tbody>\n",
       "\t<tr><td>TRUE </td><td>30.3</td><td>4</td></tr>\n",
       "\t<tr><td>TRUE </td><td> 3.8</td><td>5</td></tr>\n",
       "\t<tr><td>FALSE</td><td> 0.0</td><td>5</td></tr>\n",
       "\t<tr><td>⋮</td><td>⋮</td><td>⋮</td></tr>\n",
       "\t<tr><td>FALSE</td><td>0.0</td><td>2</td></tr>\n",
       "\t<tr><td>FALSE</td><td>2.3</td><td>2</td></tr>\n",
       "\t<tr><td>TRUE </td><td>0.2</td><td>4</td></tr>\n",
       "</tbody>\n",
       "</table>\n"
      ],
      "text/latex": [
       "A tibble: 196 × 3\n",
       "\\begin{tabular}{lll}\n",
       " subscribe & played\\_hours & experience\\\\\n",
       " <fct> & <dbl> & <dbl>\\\\\n",
       "\\hline\n",
       "\t TRUE  & 30.3 & 4\\\\\n",
       "\t TRUE  &  3.8 & 5\\\\\n",
       "\t FALSE &  0.0 & 5\\\\\n",
       "\t ⋮ & ⋮ & ⋮\\\\\n",
       "\t FALSE & 0.0 & 2\\\\\n",
       "\t FALSE & 2.3 & 2\\\\\n",
       "\t TRUE  & 0.2 & 4\\\\\n",
       "\\end{tabular}\n"
      ],
      "text/markdown": [
       "\n",
       "A tibble: 196 × 3\n",
       "\n",
       "| subscribe &lt;fct&gt; | played_hours &lt;dbl&gt; | experience &lt;dbl&gt; |\n",
       "|---|---|---|\n",
       "| TRUE  | 30.3 | 4 |\n",
       "| TRUE  |  3.8 | 5 |\n",
       "| FALSE |  0.0 | 5 |\n",
       "| ⋮ | ⋮ | ⋮ |\n",
       "| FALSE | 0.0 | 2 |\n",
       "| FALSE | 2.3 | 2 |\n",
       "| TRUE  | 0.2 | 4 |\n",
       "\n"
      ],
      "text/plain": [
       "    subscribe played_hours experience\n",
       "1   TRUE      30.3         4         \n",
       "2   TRUE       3.8         5         \n",
       "3   FALSE      0.0         5         \n",
       "⋮   ⋮         ⋮            ⋮         \n",
       "194 FALSE     0.0          2         \n",
       "195 FALSE     2.3          2         \n",
       "196 TRUE      0.2          4         "
      ]
     },
     "metadata": {},
     "output_type": "display_data"
    }
   ],
   "source": [
    "#Data wrangling in preparation for classification\n",
    "set.seed(12)\n",
    "\n",
    "mod_players <- players |>\n",
    "                select (subscribe, played_hours, experience) |>\n",
    "                mutate (subscribe = as_factor(subscribe),\n",
    "                        experience = recode(experience, Beginner = 1, Amateur = 2, Regular = 3, Pro = 4, Veteran = 5)) \n",
    "mod_players"
   ]
  },
  {
   "cell_type": "markdown",
   "id": "3b4bbde9-7f50-41c4-800e-6427f999e680",
   "metadata": {},
   "source": [
    "### K-nn Tuning, Unsample & Accuracy Plot\n",
    "- We used `set.seed(12)` in order to maintain reproducibility.\n",
    "- In this section, we tune our data using the k-nn classification method and apply the `up_sample` function to balance the weight of the predictor variables\n",
    "- We performed 5-fold cross-validation and tuned for k, with the number of neighbours ranging from 2 to 100, increasing by one each time.\n",
    "- In the end, we plotted the accuracy versus the number of neighbours. However, we found that accuracy plot didn’t help much in determining the best value for k.\n",
    "- The plot didn’t show a clear trend or peak that would guide us to pick one value over the others, so it didn’t provide helpful information for the final model selection."
   ]
  },
  {
   "cell_type": "code",
   "execution_count": null,
   "id": "1148ea05-f46b-4db9-869c-6d349cdca86d",
   "metadata": {},
   "outputs": [],
   "source": [
    "# K-nn Tuning (with cross-validation) + upsampling \n",
    "set.seed(12)\n",
    "players_split <- mod_players |> \n",
    "                    initial_split (prop = 0.75, strata = subscribe) \n",
    "\n",
    "players_training <- training (players_split)\n",
    "players_testing <- testing (players_split)\n",
    "\n",
    "recipe_with_step <- recipe(subscribe ~ ., data = players_training) |>\n",
    "                        step_center(all_predictors()) |>\n",
    "                        step_scale(all_predictors()) |>\n",
    "                        step_upsample (subscribe , over_ratio = 1) \n",
    "\n",
    "knn_spec_tune <- nearest_neighbor (weight_func = \"rectangular\", neighbors = tune()) |>\n",
    "                    set_engine(\"kknn\") |>\n",
    "                    set_mode (\"classification\")\n",
    "\n",
    "vfold <- vfold_cv(players_training, v = 5, strata = subscribe)\n",
    "\n",
    "knn_grid <- tibble(neighbors = seq(from = 2, to = 100, by = 1))\n",
    "\n",
    "knn_results <- workflow() |>\n",
    "                  add_recipe(recipe_with_step) |>\n",
    "                  add_model(knn_spec_tune) |>\n",
    "                  tune_grid(resamples = vfold, grid = knn_grid)|>\n",
    "                  collect_metrics()\n",
    "\n",
    "knn_results\n",
    "# Fix issue with extracting neighbors and mean accuracy\n",
    "accuracies <- knn_results |>\n",
    "                  filter(.metric == \"accuracy\") |>\n",
    "                  select(neighbors, mean = mean) |>  # Ensure correct column selection\n",
    "                  mutate(neighbors = as.numeric(neighbors), mean = as.numeric(mean))\n",
    "\n",
    "# Plot accuracy vs. number of neighbors\n",
    "options(repr.plot.height = 7, repr.plot.width = 8)\n",
    "cross_val_plot <- ggplot(accuracies, aes(x = neighbors, y = mean)) +\n",
    "                  geom_point() +\n",
    "                  geom_line() +\n",
    "                  labs(x = \"Neighbors\", \n",
    "                       y = \"Accuracy Estimate (0-1 scale)\",\n",
    "                       title = \"Figure 1:\\nAccuracy vs. Number of Neighbors\") +\n",
    "                  theme(text = element_text(size = 18))\n",
    "             \n",
    "cross_val_plot"
   ]
  },
  {
   "cell_type": "markdown",
   "id": "2698aceb-dde5-4eff-9353-d94a404b17a9",
   "metadata": {},
   "source": [
    "**Figure 1:** This visualization shows how the accuracy metric changes dependent on our value for *k*, between 2 and 100 neighbours. The accuracy estimate represents the ratio of correct to total guesses."
   ]
  },
  {
   "cell_type": "markdown",
   "id": "009c3612-149e-43a6-bfcf-13ec3eb732fa",
   "metadata": {},
   "source": [
    "### Alternative Method\n",
    "- From the above analysis, we realized that using accuracy as an evaluation metric doesn't give us a clear indicator of which K-value we should use, which suggests that accuracy is not thte best way to answer this question.\n",
    "- However, we know there is not a specfic function that can automatically calculate the recall and precision of each neighbours, therefore, we calculated each neighbours manually to determine which k to use.\n",
    "- we caculated k = 2, 3, 4, 6, 10, which allowed us to notice trends between number of neighbours and precision/recall.\n",
    "- for each value for k, we produced a confusion matrix to see the count for each correct and incorrect prediction."
   ]
  },
  {
   "cell_type": "code",
   "execution_count": null,
   "id": "5dc0b48f-311f-4b3b-b3a6-3ce392c49e63",
   "metadata": {},
   "outputs": [],
   "source": [
    "set.seed(12)\n",
    "precision_recipe <- recipe(subscribe ~ ., data = players_training) |>\n",
    "    step_center(all_predictors()) |>\n",
    "    step_scale(all_predictors()) \n",
    "\n",
    "# for 2 neighbors\n",
    "knn_2 <- nearest_neighbor (weight_func = \"rectangular\", neighbors = 2) |>\n",
    "    set_engine(\"kknn\") |>\n",
    "    set_mode (\"classification\")\n",
    "\n",
    "fit_2 <- workflow() |>\n",
    "    add_recipe (precision_recipe) |>\n",
    "    add_model (knn_2) |>\n",
    "    fit(data = players_training)\n",
    "\n",
    "predictions_2 <- predict (fit_2, new_data = players_testing) |>\n",
    "    bind_cols (players_testing)\n",
    "\n",
    "metrics_2 <- predictions_2 |>\n",
    "    metrics(truth = subscribe, estimate = .pred_class)\n",
    "\n",
    "conf_mat_2 <- predictions_2 |>\n",
    "    conf_mat (truth = subscribe, estimate = .pred_class) \n",
    "\n",
    "conf_mat_2"
   ]
  },
  {
   "cell_type": "code",
   "execution_count": null,
   "id": "8cda3852-9539-4a66-bafa-e5424713b413",
   "metadata": {},
   "outputs": [],
   "source": [
    "set.seed(12)\n",
    "#for 4 neighbors\n",
    "\n",
    "knn_4 <- nearest_neighbor (weight_func = \"rectangular\", neighbors = 4) |>\n",
    "    set_engine(\"kknn\") |>\n",
    "    set_mode (\"classification\")\n",
    "\n",
    "fit_4 <- workflow() |>\n",
    "    add_recipe (precision_recipe) |>\n",
    "    add_model (knn_4) |>\n",
    "    fit(data = players_training)\n",
    "\n",
    "predictions_4 <- predict (fit_4, new_data = players_testing) |>\n",
    "    bind_cols (players_testing)\n",
    "\n",
    "metrics_4 <- predictions_4 |>\n",
    "    metrics(truth = subscribe, estimate = .pred_class)\n",
    "\n",
    "conf_mat_4 <- predictions_4 |>\n",
    "    conf_mat (truth = subscribe, estimate = .pred_class)\n",
    "\n",
    "conf_mat_4"
   ]
  },
  {
   "cell_type": "code",
   "execution_count": null,
   "id": "b83b7f00-3db1-401c-8e74-7ccdd2b7fe88",
   "metadata": {},
   "outputs": [],
   "source": [
    "set.seed(12)\n",
    "#for 6 neighbors\n",
    "\n",
    "knn_6 <- nearest_neighbor (weight_func = \"rectangular\", neighbors = 6) |>\n",
    "    set_engine(\"kknn\") |>\n",
    "    set_mode (\"classification\")\n",
    "\n",
    "fit_6 <- workflow() |>\n",
    "    add_recipe (precision_recipe) |>\n",
    "    add_model (knn_6) |>\n",
    "    fit(data = players_training)\n",
    "\n",
    "predictions_6 <- predict (fit_6, new_data = players_testing) |>\n",
    "    bind_cols (players_testing)\n",
    "\n",
    "metrics_6 <- predictions_6 |>\n",
    "    metrics(truth = subscribe, estimate = .pred_class)\n",
    "\n",
    "conf_mat_6 <- predictions_6 |>\n",
    "    conf_mat (truth = subscribe, estimate = .pred_class)\n",
    "conf_mat_6"
   ]
  },
  {
   "cell_type": "code",
   "execution_count": null,
   "id": "c70d2a34-efb5-42df-b537-d0eee77bbaee",
   "metadata": {},
   "outputs": [],
   "source": [
    "set.seed(12)\n",
    "#for 10 neighbors\n",
    "\n",
    "knn_10 <- nearest_neighbor (weight_func = \"rectangular\", neighbors = 10) |>\n",
    "                    set_engine(\"kknn\") |>\n",
    "                    set_mode (\"classification\")\n",
    "\n",
    "fit_10 <- workflow() |>\n",
    "    add_recipe (precision_recipe) |>\n",
    "    add_model (knn_10) |>\n",
    "    fit(data = players_training)\n",
    "\n",
    "predictions_10 <- predict (fit_10, new_data = players_testing) |>\n",
    "    bind_cols (players_testing)\n",
    "\n",
    "metrics_10 <- predictions_10 |>\n",
    "    metrics(truth = subscribe, estimate = .pred_class)\n",
    "\n",
    "conf_mat_10 <- predictions_10 |>\n",
    "    conf_mat (truth = subscribe, estimate = .pred_class)\n",
    "\n",
    "conf_mat_10"
   ]
  },
  {
   "cell_type": "code",
   "execution_count": null,
   "id": "e0b0bc0b-f6b1-4cc6-b307-d4815cccd0bd",
   "metadata": {},
   "outputs": [],
   "source": [
    "set.seed(12)\n",
    "#quantifying precision and recall\n",
    "\n",
    "precision_2 <- 10/(10 + 21)\n",
    "recall_2 <- 10/(10 + 3)\n",
    "\n",
    "precision_3 <- 5/(5 + 18)\n",
    "recall_3 <- 5/(5 + 8)\n",
    "\n",
    "precision_4 <- 7/(7 + 21)\n",
    "recall_4 <- 7/(7 + 6)\n",
    "\n",
    "precision_6 <- 7/(7 + 19)\n",
    "recall_6 <- 7/(7 + 6)\n",
    "\n",
    "precision_10 <- 4/(4 + 10)\n",
    "recall_10 <- 4/(4 + 9)\n",
    "\n",
    "metrics_df <- tibble(\"k\" = c(2, 3, 4, 6, 10), \n",
    "                     \"precision\" = c(precision_2, precision_3, precision_4, precision_6, precision_10),\n",
    "                     \"recall\" = c(recall_2, recall_3, recall_4, recall_6, recall_10))\n",
    "metrics_df\n",
    "\n",
    "max_recall <- metrics_df |>\n",
    "    select(k, recall) |>\n",
    "    arrange(desc(recall)) |>\n",
    "    slice(1) \n",
    "max_recall"
   ]
  },
  {
   "cell_type": "code",
   "execution_count": null,
   "id": "1ffcb810-17f5-4ce0-ac79-21c1a3176ba3",
   "metadata": {},
   "outputs": [],
   "source": [
    "set.seed(12)\n",
    "\n",
    "optimal_k <- 2\n",
    "\n",
    "final_spec <- nearest_neighbor(weight_func = \"rectangular\", neighbors = optimal_k) |>\n",
    "    set_engine(\"kknn\") |>\n",
    "    set_mode(\"classification\")\n",
    "\n",
    "final_fit <- workflow() |>\n",
    "    add_recipe(precision_recipe) |>\n",
    "    add_model(final_spec) |>\n",
    "    fit(data = players_training)\n",
    "\n",
    "final_preds <- predict(final_fit, new_data = players_testing) |>\n",
    "    bind_cols(players_testing)\n",
    "\n",
    "final_accuracy <- final_preds |>\n",
    "    metrics(truth = subscribe, estimate = .pred_class) |>\n",
    "    filter(.metric == \"accuracy\") |>\n",
    "    select(.estimate) |>\n",
    "    pull()\n",
    "\n",
    "final_matrix <- final_preds |>\n",
    "    conf_mat (truth = subscribe, estimate = .pred_class)\n",
    "\n",
    "final_matrix\n",
    "final_accuracy"
   ]
  },
  {
   "cell_type": "markdown",
   "id": "b9544ffc-673d-43a1-b8aa-25206739f4b3",
   "metadata": {},
   "source": [
    "## Visualization"
   ]
  },
  {
   "cell_type": "code",
   "execution_count": null,
   "id": "6a02f786-7f2a-4115-926c-9073bc9177ef",
   "metadata": {},
   "outputs": [],
   "source": [
    "set.seed(12)\n",
    "options(repr.plot.width = 10, repr.plot.height = 4)\n",
    "k_2_preds <- predictions_2 |>\n",
    "    ggplot(aes(x = played_hours, y = experience, color = .pred_class)) +\n",
    "    geom_point() +\n",
    "    labs(x = \"Hours Played (log10 scale)\", y = \"Experience Rank\", color = \"Predictions\", title = \"Figure 2:\\nK=2 Subscription Predictions for Experience and Hours Played\") +\n",
    "    scale_x_log10() +\n",
    "    theme(text = element_text(size = 18))\n",
    "k_2_preds"
   ]
  },
  {
   "cell_type": "markdown",
   "id": "f97296a0-09f4-43c5-9bd0-b00da2ced1bc",
   "metadata": {},
   "source": [
    "**Figure 2:** On a logarithmic scale, this graph shows each observation in the testing dataset with our subscription predictions coloured."
   ]
  },
  {
   "cell_type": "code",
   "execution_count": null,
   "id": "20d1c8bf-52fb-4488-ab9e-f9faa72382e0",
   "metadata": {},
   "outputs": [],
   "source": [
    "set.seed(12)\n",
    "options(repr.plot.width = 10, repr.plot.height = 4)\n",
    "\n",
    "k_reals_plotted <- players_testing |>\n",
    "    ggplot(aes(x = played_hours, y = experience, color = subscribe)) +\n",
    "    geom_point() +\n",
    "    labs(x = \"Hours Played (log10 scale)\", y = \"Experience Rank\", color = \"Subscribed?\", title = \"Figure 3:\\nSubscription Status on an Hours Played over Experience Graph\") +\n",
    "    scale_x_log10() +\n",
    "    theme(text = element_text(size = 18))\n",
    "k_reals_plotted"
   ]
  },
  {
   "cell_type": "markdown",
   "id": "2b0983e5-5588-452d-b318-2545821dac3d",
   "metadata": {},
   "source": [
    "**Figure 3:** On a logarithmic scale, this graph shows each observation in the testing dataset with the *actual* subscription status coloured."
   ]
  },
  {
   "cell_type": "code",
   "execution_count": null,
   "id": "343a4c5f-92c2-4207-9931-a49c2318cc8f",
   "metadata": {},
   "outputs": [],
   "source": [
    "set.seed(12)\n",
    "options(repr.plot.width = 10, repr.plot.height = 4)\n",
    "\n",
    "k_falses_plotted <- players_testing |>\n",
    "    filter(subscribe == \"FALSE\") |>\n",
    "    ggplot(aes(x = played_hours, y = experience, color = subscribe)) +\n",
    "    geom_point() +\n",
    "    labs(x = \"Hours Played (log10 scale)\", y = \"Experience Rank\", color = \"Non-Subscribers\", title = \"Figure 4:\\nNon-Subscribers on an Hours Played over Experience Graph\") +\n",
    "    scale_x_log10() +\n",
    "    theme(text = element_text(size = 18))\n",
    "k_falses_plotted"
   ]
  },
  {
   "cell_type": "markdown",
   "id": "623d44b5-0c73-4a78-8523-8a5155eadfd8",
   "metadata": {},
   "source": [
    "**Figure 4:** On a logarithmic scale, this graph shows the *false* observations ONLY in the testing dataset."
   ]
  },
  {
   "cell_type": "code",
   "execution_count": null,
   "id": "1568565b-eea7-48ab-9f2e-57cbf20bef65",
   "metadata": {},
   "outputs": [],
   "source": [
    "set.seed(12)\n",
    "options(repr.plot.width = 10, repr.plot.height = 4)\n",
    "\n",
    "precision_plot <- ggplot (metrics_df, aes(x = k, y = precision)) +\n",
    "                    geom_point() +\n",
    "                    geom_line() +\n",
    "                    labs(x = \"Number of Neighbours\",\n",
    "                         y = \"Precision (0-1 scale)\") +\n",
    "                    ggtitle (\"Figure 5:\\nPrecision Vs. Number of Neigbours\") +\n",
    "                    theme(text = element_text(size = 18))\n",
    "precision_plot   "
   ]
  },
  {
   "cell_type": "markdown",
   "id": "97e5e358-60c4-45c0-8a7b-241c82118792",
   "metadata": {},
   "source": [
    "**Figure 5:** This graph shows how our precision metric changes with the number of neighbours used (value for *k*)"
   ]
  },
  {
   "cell_type": "code",
   "execution_count": null,
   "id": "3b3a9313-94bc-4a9d-9036-52f6b2254a36",
   "metadata": {},
   "outputs": [],
   "source": [
    "set.seed(12)\n",
    "options(repr.plot.width = 10, repr.plot.height = 4)\n",
    "\n",
    "recall_plot <- ggplot (metrics_df, aes(x = k, y = recall)) +\n",
    "                    geom_point() +\n",
    "                    geom_line() +\n",
    "                    labs(x = \"Number of Neighbours\",\n",
    "                         y = \"Recall (0-1 scale)\") +\n",
    "                    ggtitle (\"Figure 6:\\nRecall Vs. Number of Neigbours\") +\n",
    "                    theme(text = element_text(size = 18))\n",
    "recall_plot"
   ]
  },
  {
   "cell_type": "markdown",
   "id": "a0b87eba-3614-49f0-af70-23cf92d5a57d",
   "metadata": {},
   "source": [
    "**Figure 6:** This graph shows how our recall metric (the one we are trying to optimize) changes with the number of neighbours used (value for *k*)"
   ]
  },
  {
   "cell_type": "markdown",
   "id": "548506bd-c5fb-43bf-b2e9-7fd85ec01ba7",
   "metadata": {},
   "source": [
    "**Discussion:**\n",
    "   \n",
    "Using a k-nn classification model maximizing for precision, we obtained a model with an optimal k (2 nearest neighbours) and 79% precision value. After splitting the data, we first created a cross-validation k-tuning model to evaluate accuracy with k. Not only was this model redundant, as it was most accurate when we predicted \"TRUE\" for every single observation, but it also failed to capture the important aspects of the inquiry question. We figured developpers would be most interested in non-subscribers, so they could figure out why people are not subscribing and offer subscribtion incentives that would cater to non-subscribers in efforts to get as many people subscribed as possible. Thus, we felt it made sense for our model to sophistocatedly predict which people were not subscribed, and we chose precision as the primary metric we would optimize for. **A high precision ensures that when the model predicts someone as a non-subscriber, it is likely correct, minimizing misclassification.** After trying multiple ks, we produced precision and recall values in a data frame and selected the k with the highest precision. **Although precision was our primary metric, we monitored recall to ensure the model was not overly conservative. The recall remained within a reasonable range, suggesting a balanced performance.**  \n",
    "\n",
    "**While we have obtained some useful findings, we have also identified user behavioral issues that cannot be fully explained by the existing data and deserve further research.** A result of 79% is reasonable, and roughly what we could expect since our classes were so imbalanced. Considering it is significantly more than 50%, this data is useful to the developpers, as they can successfully predict 4 of 5 non-subscribers based on how much they've played and use that data to learn about which people do not subscribe. From our first visualization (our predictions mapped), we see that the biggest cluster of predicted non-subscribers were those who had played very few hours in PlaiCraft, regardless of MineCraft experience. This is a reasonable assumption to make; those who have invested very little of their time into this project are least likely to subscribe, irrespective of their passion for MineCraft. **While `played_hours` was the most predictive feature, we also included variable `experience`. `experience` contributed marginally to the model’s performance but was not the primary driver of prediction accuracy.** What is more interesting, however, is the second cluster of non-subscribers at the high end of hours played in PlaiCraft. For these players, there is no reason why they should not have subscribed, and further efforts to figure out why they have not subscribed would make for impactful marketing research. This is likely the biggest impact of our model; we've predicted a cluster of high-commitment non-subscribers, and this logical discrepancy demands more research. Perhaps there are other factors at play; maybe these players are very young and won't receive emails, or perhaps their hours count is unusually high because they leave the game on in the background. These hypotheses could lead to new data analysis that seeks to unpack exclusively that cluster and explain it. **This model can be integrated into user engagement strategies, flagging high-risk non-subscribers early and allowing targeted incentives or follow-up communications.**  \n",
    "\n",
    "Finally, although our results lead to some interesting questions, they are hampered by the size and content of the data available. We only have 196 observations with 7 metrics being tracked, leading to a small and thus perhaps more inaccurate testing set. We also can't perform analysis on metrics like \"How often do they check their email\" or \"How many other newsletters are they subscribed to,\" which means our results must be produced strictly by what we have accessible. Although our model is clearly functional, 79% is not overly powerful, and indeed, the cluster of high-commitment non-subscribers contains two fewer observations than our model suggests. While it is worth investigating, we need more data and a better model before we can pursue other questions related exclusively to that cluster.  \n",
    "**In summation, here are a few ways to improve the performance of our model:**  \n",
    "1. **Richer behavioral data** <br>\n",
    "   Examples: Past subscription behavior in similar games, device type or platform, in-game purchase history...  \n",
    "2. **Demographic information** <br>\n",
    "   Examples: Language spoken  \n",
    "3. **Larger and more diverse dataset** <br> \n",
    "The current dataset contains only 196 observations, which may limit the generalizability and reliability of our findings. Future efforts may focus on inviting more players to PlaiCraft or collecting data over a longer period of time. Larger datasets allow for more accurate modeling, better cross-validation, and may reveal patterns not visible in small samples."
   ]
  },
  {
   "cell_type": "code",
   "execution_count": null,
   "id": "474ae849-df0a-40f3-8479-978ac6aedfb3",
   "metadata": {},
   "outputs": [],
   "source": []
  }
 ],
 "metadata": {
  "kernelspec": {
   "display_name": "R",
   "language": "R",
   "name": "ir"
  },
  "language_info": {
   "codemirror_mode": "r",
   "file_extension": ".r",
   "mimetype": "text/x-r-source",
   "name": "R",
   "pygments_lexer": "r",
   "version": "4.3.3"
  }
 },
 "nbformat": 4,
 "nbformat_minor": 5
}
